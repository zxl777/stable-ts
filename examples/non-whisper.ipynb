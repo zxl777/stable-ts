{
 "cells": [
  {
   "cell_type": "markdown",
   "id": "13dc05a3-de12-4d7a-a926-e99d6d97826e",
   "metadata": {},
   "source": [
    "## Using Stable-ts with any ASR\n",
    "Stable-ts can be used for other ASR models by wrapping their outputs as a `WhisperResult` object."
   ]
  },
  {
   "cell_type": "code",
   "execution_count": 1,
   "id": "2f5f2f6d-a9fa-4f62-a065-21d10e9745d1",
   "metadata": {},
   "outputs": [],
   "source": [
    "import stable_whisper\n",
    "assert int(stable_whisper.__version__.replace('.', '')) >= 261, f\"Requires Stable-ts 2.6.1+. Current version is {stable_whisper.__version__}.\""
   ]
  },
  {
   "cell_type": "markdown",
   "id": "856ef1fd-f489-42af-a90c-97323fd05a6b",
   "metadata": {},
   "source": [
    "<br />\n",
    "\n",
    "In order to initialize `WhisperResult` from any data, it will need to follow this mapping."
   ]
  },
  {
   "cell_type": "code",
   "execution_count": 2,
   "id": "06bc4ce7-5117-4674-8eb9-c343c13c18bc",
   "metadata": {},
   "outputs": [],
   "source": [
    "demo = [\n",
    "    [   # 1st Segment\n",
    "        {'word': ' And', 'start': 0.0, 'end': 1.28}, \n",
    "        {'word': ' when', 'start': 1.28, 'end': 1.52}, \n",
    "        {'word': ' no', 'start': 1.52, 'end': 2.26}, \n",
    "        {'word': ' ocean,', 'start': 2.26, 'end': 2.68},\n",
    "        {'word': ' mountain,', 'start': 3.28, 'end': 3.58}\n",
    "    ], \n",
    "    [   # 2nd Segment\n",
    "        {'word': ' or', 'start': 4.0, 'end': 4.08}, \n",
    "        {'word': ' sky', 'start': 4.08, 'end': 4.56}, \n",
    "        {'word': ' could', 'start': 4.56, 'end': 4.84}, \n",
    "        {'word': ' contain', 'start': 4.84, 'end': 5.26}, \n",
    "        {'word': ' us,', 'start': 5.26, 'end': 6.27},\n",
    "        {'word': ' our', 'start': 6.27, 'end': 6.58}, \n",
    "        {'word': ' gaze', 'start': 6.58, 'end': 6.98}, \n",
    "        {'word': ' hungered', 'start': 6.98, 'end': 7.88}, \n",
    "        {'word': ' starward.', 'start': 7.88, 'end': 8.64}\n",
    "    ]\n",
    "]"
   ]
  },
  {
   "cell_type": "markdown",
   "id": "b53bd812-2838-4f47-ab5f-5e729801aaee",
   "metadata": {},
   "source": [
    "<br />\n",
    "\n",
    "If word timings are not available they can be omitted, but operations that can be performed on this data will be limited."
   ]
  },
  {
   "cell_type": "code",
   "execution_count": 3,
   "id": "8c6bf720-5bfd-4e79-90e7-7049a2ca1d3a",
   "metadata": {},
   "outputs": [],
   "source": [
    "no_word_demo = [\n",
    "    {\n",
    "        'start': 0.0, \n",
    "        'end': 3.58, \n",
    "        'text': ' And when no ocean, mountain,',\n",
    "    }, \n",
    "    {\n",
    "        'start': 4.0, \n",
    "        'end': 8.64, \n",
    "        'text': ' or sky could contain us, our gaze hungered starward.', \n",
    "    }\n",
    "]"
   ]
  },
  {
   "cell_type": "markdown",
   "id": "108e960f-8bd1-4d2a-92bf-cc8cb56f4615",
   "metadata": {},
   "source": [
    "<br />\n",
    "\n",
    "Below is the full mapping for normal Stable-ts results. `None` takes the place of any omitted values except for `start`, `end`, and `text`/`word` which are required."
   ]
  },
  {
   "cell_type": "code",
   "execution_count": 4,
   "id": "2969aad2-c8bf-4043-8015-669a3102e158",
   "metadata": {},
   "outputs": [],
   "source": [
    "full_demo = {\n",
    "    'language': 'en',\n",
    "    'text': ' And when no ocean, mountain, or sky could contain us, our gaze hungered starward.', \n",
    "    'segments': [\n",
    "        {\n",
    "            'seek': 0.0, \n",
    "            'start': 0.0, \n",
    "            'end': 3.58, \n",
    "            'text': ' And when no ocean, mountain,', \n",
    "            'tokens': [400, 562, 572, 7810, 11, 6937, 11], \n",
    "            'temperature': 0.0, \n",
    "            'avg_logprob': -0.48702024376910663, \n",
    "            'compression_ratio': 1.0657894736842106, \n",
    "            'no_speech_prob': 0.3386174440383911, \n",
    "            'id': 0, \n",
    "            'words': [\n",
    "                {'word': ' And', 'start': 0.04, 'end': 1.28, 'probability': 0.6481522917747498, 'tokens': [400]}, \n",
    "                {'word': ' when', 'start': 1.28, 'end': 1.52, 'probability': 0.9869539141654968, 'tokens': [562]}, \n",
    "                {'word': ' no', 'start': 1.52, 'end': 2.26, 'probability': 0.57384192943573, 'tokens': [572]}, \n",
    "                {'word': ' ocean,', 'start': 2.26, 'end': 2.68, 'probability': 0.9484889507293701, 'tokens': [7810, 11]},\n",
    "                {'word': ' mountain,', 'start': 3.28, 'end': 3.58, 'probability': 0.9581122398376465, 'tokens': [6937, 11]}\n",
    "            ]\n",
    "        }, \n",
    "        {\n",
    "            'seek': 0.0, \n",
    "            'start': 4.0, \n",
    "            'end': 8.64, \n",
    "            'text': ' or sky could contain us, our gaze hungered starward.', \n",
    "            'tokens': [420, 5443, 727, 5304, 505, 11, 527, 24294, 5753, 4073, 3543, 1007, 13], \n",
    "            'temperature': 0.0, \n",
    "            'avg_logprob': -0.48702024376910663, \n",
    "            'compression_ratio': 1.0657894736842106, \n",
    "            'no_speech_prob': 0.3386174440383911, \n",
    "            'id': 1, \n",
    "            'words': [\n",
    "                {'word': ' or', 'start': 4.0, 'end': 4.08, 'probability': 0.9937937259674072, 'tokens': [420]}, \n",
    "                {'word': ' sky', 'start': 4.08, 'end': 4.56, 'probability': 0.9950089454650879, 'tokens': [5443]}, \n",
    "                {'word': ' could', 'start': 4.56, 'end': 4.84, 'probability': 0.9915681481361389, 'tokens': [727]}, \n",
    "                {'word': ' contain', 'start': 4.84, 'end': 5.26, 'probability': 0.898974597454071, 'tokens': [5304]}, \n",
    "                {'word': ' us,', 'start': 5.26, 'end': 6.27, 'probability': 0.999351441860199, 'tokens': [505, 11]},\n",
    "                {'word': ' our', 'start': 6.27, 'end': 6.58, 'probability': 0.9634224772453308, 'tokens': [527]}, \n",
    "                {'word': ' gaze', 'start': 6.58, 'end': 6.98, 'probability': 0.8934874534606934, 'tokens': [24294]}, \n",
    "                {'word': ' hungered', 'start': 6.98, 'end': 7.88, 'probability': 0.7424876093864441, 'tokens': [5753, 4073]}, \n",
    "                {'word': ' starward.', 'start': 7.88, 'end': 8.64, 'probability': 0.464096799492836, 'tokens': [3543, 1007, 13]}\n",
    "            ]\n",
    "        }\n",
    "    ]\n",
    "}"
   ]
  },
  {
   "cell_type": "code",
   "execution_count": null,
   "id": "4b84bf15-9729-466d-b6fb-87fc1587facb",
   "metadata": {},
   "outputs": [],
   "source": []
  },
  {
   "cell_type": "markdown",
   "id": "2d6ab661-7a1f-4abc-9f76-6def4dfb0190",
   "metadata": {},
   "source": [
    "The data can now be loaded as a `WhisperResult` instance. *Note: `demo` can also be the path of a JSON file of the data in one of the above mappings.*"
   ]
  },
  {
   "cell_type": "code",
   "execution_count": 5,
   "id": "066f0bb5-20c5-4f5f-81bf-4c9aba52b92b",
   "metadata": {},
   "outputs": [],
   "source": [
    "result = stable_whisper.WhisperResult(demo)"
   ]
  },
  {
   "cell_type": "markdown",
   "id": "49724cfa-0d59-45dc-b4e7-e93cef0ac7fa",
   "metadata": {
    "tags": []
   },
   "source": [
    "<br />\n",
    "\n",
    "We can perform all the operations on this data like normal stable-ts results.\n",
    "One of those operations is post-inference silence suppression (which requires the audio file of this data)."
   ]
  },
  {
   "cell_type": "code",
   "execution_count": 6,
   "id": "14c02413-a071-42a4-8781-560b0ab24c24",
   "metadata": {
    "tags": []
   },
   "outputs": [],
   "source": [
    "audio = './demo.wav'"
   ]
  },
  {
   "cell_type": "markdown",
   "id": "bb7d636c-30d0-4473-b3c5-818756feb79d",
   "metadata": {
    "tags": []
   },
   "source": [
    "#### Non-VAD Suppression"
   ]
  },
  {
   "cell_type": "code",
   "execution_count": 7,
   "id": "66bdd0af-acb1-4b7b-9465-f138ac4a70f9",
   "metadata": {
    "tags": []
   },
   "outputs": [],
   "source": [
    "from stable_whisper.stabilization import wav2mask, mask2timing"
   ]
  },
  {
   "cell_type": "code",
   "execution_count": 8,
   "id": "47de6359-4c44-4415-ba15-c085d721fe45",
   "metadata": {
    "tags": []
   },
   "outputs": [
    {
     "data": {
      "text/plain": [
       "(array([0.  , 0.38, 0.78, 1.06, 1.72, 5.92, 6.2 , 8.9 ]),\n",
       " array([0.04, 0.56, 0.96, 1.14, 2.  , 5.96, 6.36, 9.48]))"
      ]
     },
     "execution_count": 8,
     "metadata": {},
     "output_type": "execute_result"
    }
   ],
   "source": [
    "nonvad_silent_timings = mask2timing(wav2mask('./demo.wav'))\n",
    "nonvad_silent_timings"
   ]
  },
  {
   "cell_type": "code",
   "execution_count": 9,
   "id": "42b17a42-21fc-4b22-9cc8-d7bf967d0ac2",
   "metadata": {
    "tags": []
   },
   "outputs": [
    {
     "data": {
      "text/plain": [
       "<stable_whisper.result.WhisperResult at 0x106fee670>"
      ]
     },
     "execution_count": 9,
     "metadata": {},
     "output_type": "execute_result"
    }
   ],
   "source": [
    "result.suppress_silence(*nonvad_silent_timings)"
   ]
  },
  {
   "cell_type": "code",
   "execution_count": 10,
   "id": "a591b9ec-c560-4311-9cd9-4c58b427511d",
   "metadata": {
    "tags": []
   },
   "outputs": [
    {
     "name": "stdout",
     "output_type": "stream",
     "text": [
      "word:  And\n",
      "start: 0.0 -> 0.04\n",
      "end: 1.28 -> 1.28\n",
      "\n",
      "word:  us,\n",
      "start: 5.26 -> 5.26\n",
      "end: 6.27 -> 6.2\n",
      "\n",
      "word:  our\n",
      "start: 6.27 -> 6.36\n",
      "end: 6.58 -> 6.58\n",
      "\n"
     ]
    }
   ],
   "source": [
    "for new_seg, old_seg in zip(result.segments, demo):\n",
    "    for new_word, old_word in zip(new_seg.words, old_seg):\n",
    "        if new_word.start != old_word['start'] or new_word.end != old_word['end']:\n",
    "            print(f\"word: {new_word.word}\\n\"\n",
    "                  f\"start: {old_word['start']} -> {new_word.start}\\n\"\n",
    "                  f\"end: {old_word['end']} -> {new_word.end}\\n\")"
   ]
  },
  {
   "cell_type": "markdown",
   "id": "d429410b-1989-493f-ae4f-72dd8dcc993a",
   "metadata": {},
   "source": [
    "#### VAD Suppression"
   ]
  },
  {
   "cell_type": "code",
   "execution_count": 11,
   "id": "e2b465b2-d44a-4021-b64d-973508961521",
   "metadata": {
    "tags": []
   },
   "outputs": [],
   "source": [
    "from stable_whisper.stabilization import get_vad_silence_func"
   ]
  },
  {
   "cell_type": "code",
   "execution_count": 12,
   "id": "87330ed6-9588-43a0-995f-79f4ce08c958",
   "metadata": {
    "tags": []
   },
   "outputs": [
    {
     "name": "stderr",
     "output_type": "stream",
     "text": [
      "/Users/will/.pyenv/versions/3.9.7/lib/python3.9/site-packages/torch/hub.py:286: UserWarning: You are about to download and run code from an untrusted repository. In a future release, this won't be allowed. To add the repository to your trusted list, change the command to {calling_fn}(..., trust_repo=False) and a command prompt will appear asking for an explicit confirmation of trust, or load(..., trust_repo=True), which will assume that the prompt is to be answered with 'yes'. You can also use load(..., trust_repo='check') which will only prompt for confirmation if the repo is not already trusted. This will eventually be the default behaviour\n",
      "  warnings.warn(\n",
      "Downloading: \"https://github.com/snakers4/silero-vad/zipball/master\" to /Users/will/.cache/torch/hub/master.zip\n",
      "[W ParallelNative.cpp:230] Warning: Cannot set number of intraop threads after parallel work has started or after set_num_threads call when using native parallel backend (function set_num_threads)\n"
     ]
    },
    {
     "data": {
      "text/plain": [
       "(array([0.   , 2.014, 3.07 , 6.046, 9.342]),\n",
       " array([1.122, 2.018, 3.074, 6.402, 9.483]))"
      ]
     },
     "execution_count": 12,
     "metadata": {},
     "output_type": "execute_result"
    }
   ],
   "source": [
    "vad_silent_timings = get_vad_silence_func(verbose=None)(audio)\n",
    "vad_silent_timings"
   ]
  },
  {
   "cell_type": "code",
   "execution_count": 13,
   "id": "7cd80b77-217f-4555-9be4-4a247ccefb8d",
   "metadata": {
    "tags": []
   },
   "outputs": [
    {
     "data": {
      "text/plain": [
       "<stable_whisper.result.WhisperResult at 0x106fee670>"
      ]
     },
     "execution_count": 13,
     "metadata": {},
     "output_type": "execute_result"
    }
   ],
   "source": [
    "result.suppress_silence(*vad_silent_timings)"
   ]
  },
  {
   "cell_type": "code",
   "execution_count": 14,
   "id": "c323d67a-f690-4af1-93b5-71d3f9351ad4",
   "metadata": {
    "tags": []
   },
   "outputs": [
    {
     "name": "stdout",
     "output_type": "stream",
     "text": [
      "word:  And\n",
      "start: 0.0 -> 1.122\n",
      "end: 1.28 -> 1.28\n",
      "\n",
      "word:  us,\n",
      "start: 5.26 -> 5.26\n",
      "end: 6.27 -> 6.046\n",
      "\n",
      "word:  our\n",
      "start: 6.27 -> 6.402\n",
      "end: 6.58 -> 6.58\n",
      "\n"
     ]
    }
   ],
   "source": [
    "for new_seg, old_seg in zip(result.segments, demo):\n",
    "    for new_word, old_word in zip(new_seg.words, old_seg):\n",
    "        if new_word.start != old_word['start'] or new_word.end != old_word['end']:\n",
    "            print(f\"word: {new_word.word}\\n\"\n",
    "                  f\"start: {old_word['start']} -> {new_word.start}\\n\"\n",
    "                  f\"end: {old_word['end']} -> {new_word.end}\\n\")"
   ]
  },
  {
   "cell_type": "markdown",
   "id": "d3652627-bf4e-462c-9b29-181ab0356411",
   "metadata": {},
   "source": [
    "Another operation is regrouping the words."
   ]
  },
  {
   "cell_type": "code",
   "execution_count": 15,
   "id": "12a594f4-4c64-463e-a582-f959fffcd968",
   "metadata": {
    "tags": []
   },
   "outputs": [
    {
     "name": "stdout",
     "output_type": "stream",
     "text": [
      "0: 1.122 -> 3.58  And when no ocean, mountain,\n",
      "1: 4.0 -> 8.64  or sky could contain us, our gaze hungered starward.\n"
     ]
    }
   ],
   "source": [
    "for i, seg in enumerate(result.segments):\n",
    "    print(f'{i}: {seg.start} -> {seg.end} {seg.text}')"
   ]
  },
  {
   "cell_type": "code",
   "execution_count": 16,
   "id": "aafaa357-8639-497f-ab6b-458dfccfa435",
   "metadata": {
    "tags": []
   },
   "outputs": [
    {
     "data": {
      "text/plain": [
       "<stable_whisper.result.WhisperResult at 0x106fee670>"
      ]
     },
     "execution_count": 16,
     "metadata": {},
     "output_type": "execute_result"
    }
   ],
   "source": [
    "result.regroup()"
   ]
  },
  {
   "cell_type": "code",
   "execution_count": 17,
   "id": "73663a49-6ce8-4a1b-af14-743e5d92614f",
   "metadata": {
    "tags": []
   },
   "outputs": [
    {
     "name": "stdout",
     "output_type": "stream",
     "text": [
      "0: 1.122 -> 2.68  And when no ocean,\n",
      "1: 3.28 -> 3.58  mountain,\n",
      "2: 4.0 -> 6.046  or sky could contain us,\n",
      "3: 6.402 -> 8.64  our gaze hungered starward.\n"
     ]
    }
   ],
   "source": [
    "for i, seg in enumerate(result.segments):\n",
    "    print(f'{i}: {seg.start} -> {seg.end} {seg.text}')"
   ]
  },
  {
   "cell_type": "code",
   "execution_count": null,
   "id": "6d7f9de6-5c9b-4c73-808d-640b13efb051",
   "metadata": {},
   "outputs": [],
   "source": []
  },
  {
   "cell_type": "code",
   "execution_count": null,
   "id": "be5a45e8-1b25-4a70-9af6-94bc5379fc7d",
   "metadata": {},
   "outputs": [],
   "source": []
  }
 ],
 "metadata": {
  "kernelspec": {
   "display_name": "Python 3 (ipykernel)",
   "language": "python",
   "name": "python3"
  },
  "language_info": {
   "codemirror_mode": {
    "name": "ipython",
    "version": 3
   },
   "file_extension": ".py",
   "mimetype": "text/x-python",
   "name": "python",
   "nbconvert_exporter": "python",
   "pygments_lexer": "ipython3",
   "version": "3.9.7"
  }
 },
 "nbformat": 4,
 "nbformat_minor": 5
}
